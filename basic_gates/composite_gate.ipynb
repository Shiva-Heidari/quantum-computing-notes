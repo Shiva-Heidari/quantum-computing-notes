{
 "cells": [
  {
   "cell_type": "code",
   "execution_count": 6,
   "id": "65d49f4b-f0f9-417f-9214-b5cea6a981c7",
   "metadata": {},
   "outputs": [
    {
     "name": "stdout",
     "output_type": "stream",
     "text": [
      "OrderedDict([('cx', 2), ('h', 1), ('Param-Gate', 1)])\n"
     ]
    },
    {
     "data": {
      "image/png": "[encoded data removed]",
      "text/plain": [
       "<Figure size 633.96x284.278 with 1 Axes>"
      ]
     },
     "metadata": {},
     "output_type": "display_data"
    }
   ],
   "source": [
    "# PURPOSE:\n",
    "# This example demonstrates how to build a parameterized composite gate in Qiskit.\n",
    "# A composite gate is a reusable subcircuit that can be inserted into larger\n",
    "# quantum circuits. By including a parameter (θ), we allow for dynamic control\n",
    "# of gate behavior (e.g., variable rotations).\n",
    "# This is useful in variational algorithms, optimization routines, and QML.\n",
    "# -----------------------------------------------------------------------------\n",
    "\n",
    "from qiskit import QuantumCircuit, QuantumRegister\n",
    "from qiskit.circuit import Parameter\n",
    "import matplotlib.pyplot as plt\n",
    "\n",
    "%matplotlib inline \n",
    "\n",
    "# -----------------------------\n",
    "# Step 1: Define a symbolic parameter\n",
    "# This parameter can be used inside gates like Rz(θ)\n",
    "# -----------------------------\n",
    "theta = Parameter('θ')  # A symbolic placeholder for a rotation angle\n",
    "\n",
    "# -----------------------------\n",
    "# Step 2: Create a subcircuit with parameterized gates\n",
    "# This will act as our reusable composite gate\n",
    "# -----------------------------\n",
    "qr_sub = QuantumRegister(2, name=\"qr_c\")  # 2-qubit register for the subcircuit\n",
    "comp_qc = QuantumCircuit(qr_sub, name=\"Param-Gate\")\n",
    "\n",
    "# Add gates to the subcircuit:\n",
    "comp_qc.h(0)             # Hadamard on qubit 0\n",
    "comp_qc.rz(theta, 1)     # Rz rotation on qubit 1, parameterized by θ\n",
    "comp_qc.cx(0, 1)         # CNOT between qubit 0 and 1\n",
    "\n",
    "# Convert the subcircuit to an Instruction so we can insert it later\n",
    "composite_gate = comp_qc.to_instruction()\n",
    "\n",
    "# -----------------------------\n",
    "# Step 3: Create a larger main circuit\n",
    "# We will insert our composite gate into this circuit\n",
    "# -----------------------------\n",
    "qr_main = QuantumRegister(3, name=\"qr\")  # 3-qubit register\n",
    "main_qc = QuantumCircuit(qr_main)\n",
    "\n",
    "# Add initial gates to the main circuit\n",
    "main_qc.h(0)\n",
    "main_qc.cx(0, 1)\n",
    "main_qc.cx(0, 2)\n",
    "\n",
    "# Insert our composite gate onto qubits 0 and 1\n",
    "main_qc.append(composite_gate, [qr_main[0], qr_main[1]])\n",
    "\n",
    "# -----------------------------\n",
    "# Step 4: Bind a numeric value to θ (e.g., θ = π/2)\n",
    "# This makes the circuit executable\n",
    "# -----------------------------\n",
    "bound_circuit = main_qc.assign_parameters({theta: 3.1415 / 2})\n",
    "\n",
    "# -----------------------------\n",
    "# Step 5: Visualize the final circuit with θ = π/2\n",
    "# -----------------------------\n",
    "bound_circuit.draw('mpl')\n",
    "\n",
    "print(bound_circuit.count_ops())\n",
    "\n"
   ]
  },
  {
   "cell_type": "code",
   "execution_count": null,
   "id": "611521b2-fe72-46b7-8345-49c9091ceac0",
   "metadata": {},
   "outputs": [],
   "source": []
  }
 ],
 "metadata": {
  "kernelspec": {
   "display_name": "Qiskit Clean",
   "language": "python",
   "name": "qiskit-clean"
  },
  "language_info": {
   "codemirror_mode": {
    "name": "ipython",
    "version": 3
   },
   "file_extension": ".py",
   "mimetype": "text/x-python",
   "name": "python",
   "nbconvert_exporter": "python",
   "pygments_lexer": "ipython3",
   "version": "3.10.18"
  }
 },
 "nbformat": 4,
 "nbformat_minor": 5
}
